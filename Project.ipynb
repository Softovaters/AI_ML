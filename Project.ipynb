{
 "cells": [
  {
   "cell_type": "code",
   "execution_count": null,
   "metadata": {
    "collapsed": false
   },
   "outputs": [],
   "source": [
    "import random\n",
    "\n",
    "numberOfGamesToBePlayed = int(input(\"Please input the number of games: \"))\n",
    "maximumNumberOfAttempts = int(input(\"Please input the number of attempts: \"))\n",
    "\n",
    "numberOfGamesPlayed = 0\n",
    "for i in range(0, numberOfGamesToBePlayed):\n",
    "    numberOfAttempts = 0\n",
    "    numberToGuess = random.randint(1,26)\n",
    "    numberEntered = 0\n",
    "    while numberOfAttempts < maximumNumberOfAttempts:\n",
    "        numberEntered = int(input(\"Guess the number: \"))\n",
    "        numberOfAttempts += 1\n",
    "        \n",
    "        if numberEntered == numberToGuess:\n",
    "            print (\"You guessed the number, it tooks you %d times\" % numberOfAttempts)\n",
    "            break\n",
    "        elif numberEntered < numberToGuess:\n",
    "            print (\"The number entered is lower\")\n",
    "        else:\n",
    "            print (\"The number entered is Higher\")\n",
    "    \n",
    "    if numberEntered != numberToGuess:\n",
    "        print(\"Game Over, You weren't able to guess the number.\")\n",
    "    \n"
   ]
  },
  {
   "cell_type": "code",
   "execution_count": null,
   "metadata": {
    "collapsed": true
   },
   "outputs": [],
   "source": []
  }
 ],
 "metadata": {
  "anaconda-cloud": {},
  "kernelspec": {
   "display_name": "Python [default]",
   "language": "python",
   "name": "python3"
  },
  "language_info": {
   "codemirror_mode": {
    "name": "ipython",
    "version": 3
   },
   "file_extension": ".py",
   "mimetype": "text/x-python",
   "name": "python",
   "nbconvert_exporter": "python",
   "pygments_lexer": "ipython3",
   "version": "3.5.2"
  }
 },
 "nbformat": 4,
 "nbformat_minor": 1
}
